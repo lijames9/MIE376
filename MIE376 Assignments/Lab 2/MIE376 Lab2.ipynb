{
 "cells": [
  {
   "cell_type": "code",
   "execution_count": 172,
   "metadata": {},
   "outputs": [],
   "source": [
    "import numpy as np"
   ]
  },
  {
   "cell_type": "code",
   "execution_count": 7,
   "metadata": {},
   "outputs": [
    {
     "name": "stdout",
     "output_type": "stream",
     "text": [
      "[0 0] [-3  8]\n"
     ]
    }
   ],
   "source": [
    "c = np.array([-3, 8, 0, 0])\n",
    "c = np.transpose(c)\n",
    "b = np.array([12, 6])\n",
    "A = np.array([[4, 2, 1, 0],[2, 3, 0, 1]])\n",
    "\n",
    "c_split = np.array_split(c, 2)\n",
    "c_b = c_split[1]\n",
    "c_n = c_split[0]\n",
    "print(c_b, c_n)\n",
    "minimize = True"
   ]
  },
  {
   "cell_type": "code",
   "execution_count": 22,
   "metadata": {},
   "outputs": [
    {
     "name": "stdout",
     "output_type": "stream",
     "text": [
      "[0 0 0 0 0] [ 3  2 -1 -2  1  2 -1  3  4 -3]\n",
      "B Matrix: \n",
      " [[1 0 0 0 0]\n",
      " [0 1 0 0 0]\n",
      " [0 0 1 0 0]\n",
      " [0 0 0 1 0]\n",
      " [0 0 0 0 1]]\n",
      "N Matrix: \n",
      " [[ 2  1  3  1  2  1  4  1 -2  3]\n",
      " [ 1 -4  1  2  3  1 -1  4  1  2]\n",
      " [ 3  2 -2 -1  1  3  2  1  1  1]\n",
      " [ 2  3  1  1  1  1  1  1  3  2]\n",
      " [ 1  1  1  1  1  1  1  1  1  1]]\n",
      "[-3. -2.  1.  2. -1. -2.  1. -3. -4.  3.]\n"
     ]
    }
   ],
   "source": [
    "import numpy as np\n",
    "\n",
    "c = np.array([3, 2, -1, -2, 1, 2, -1, 3, 4, -3, 0, 0, 0, 0, 0])\n",
    "b = np.array([80, 50, 40, 90, 50])\n",
    "A = np.array([[2, 1, 3, 1, 2, 1, 4, 1, -2, 3, 1, 0, 0, 0, 0],\n",
    "              [1, -4, 1, 2, 3, 1, -1, 4, 1, 2, 0, 1, 0, 0, 0],\n",
    "              [3, 2, -2, -1, 1, 3, 2, 1, 1, 1, 0, 0, 1, 0, 0],\n",
    "              [2, 3, 1, 1, 1, 1, 1, 1, 3, 2, 0, 0, 0, 1, 0],\n",
    "              [1, 1, 1, 1, 1, 1, 1, 1, 1, 1, 0, 0, 0, 0, 1]])\n",
    "slack_vars = 5\n",
    "c_b = c[(-1*slack_vars):]\n",
    "c_n = c[:(-1*slack_vars)]\n",
    "B = A[:, (-1*slack_vars):]\n",
    "N = A[:, :(-1*slack_vars)]\n",
    "print(\"Basic coefficient vector:\", c_b)\n",
    "print(\"Non-basic coefficient vector:\", c_n)\n",
    "print(\"B Matrix: \\n\", B)\n",
    "print(\"N Matrix: \\n\", N)\n",
    "\n",
    "print(c_b.dot(np.linalg.inv(B).dot(N)) - c_n)"
   ]
  },
  {
   "cell_type": "code",
   "execution_count": 174,
   "metadata": {},
   "outputs": [
    {
     "name": "stdout",
     "output_type": "stream",
     "text": [
      "[ 3. -8.]\n",
      "[4. 2.]\n"
     ]
    }
   ],
   "source": [
    "# Iteration 1\n",
    "if minimize == True:\n",
    "    A_split = np.hsplit(A, 2)\n",
    "    B = A_split[1]\n",
    "    N = A_split[0]\n",
    "\n",
    "    # determining var entering basic set B\n",
    "    res_mat = c_b.dot(np.linalg.inv(B).dot(N)) - c_n\n",
    "\n",
    "    max_index = max(res_mat)\n",
    "    res = [i for i, j in enumerate(res_mat) if j == max_index]\n",
    "\n",
    "    print(res_mat)\n",
    "\n",
    "    # determining var leaving non-basic set N\n",
    "\n",
    "    a_entering = [row[res[0]] for row in A]\n",
    "\n",
    "    # B(-1)*b/B(-1)*a \n",
    "    res_mat2 = np.divide(np.linalg.inv(B).dot(b), (np.linalg.inv(B).dot(a_entering)))\n",
    "    print((np.linalg.inv(B).dot(a_entering)))\n",
    "\n",
    "    max_index2 = max(res_mat2)\n",
    "    res2 = [i for i, j in enumerate(res_mat2) if j == max_index2]\n",
    "\n",
    "    enter_col = np.copy(N[:,res[0]])\n",
    "    exit_col = np.copy(B[:,res2[0]])\n",
    "    enter_cB = np.copy(c_n[res[0]])\n",
    "    enter_cN = np.copy(c_b[res2[0]])\n",
    "    #if cost vectors are fine after iteration 1, compute z = cB*xB\n",
    "    if all(i <= 0 for i in res_mat) == True:\n",
    "        x_b = np.linalg.inv(B).dot(b)\n",
    "        print(\"The optimal solution is:\", c_b.dot(x_b))\n",
    "\n",
    "elif minimize == False:\n",
    "    A_split = np.hsplit(A, 2)\n",
    "    B = A_split[1]\n",
    "    N = A_split[0]\n",
    "    print(B)\n",
    "\n",
    "    # determining var entering basic set B\n",
    "    res_mat = c_b.dot(np.linalg.inv(B).dot(N)) - c_n\n",
    "\n",
    "    min_index = min(res_mat)\n",
    "    res = [i for i, j in enumerate(res_mat) if j == min_index]\n",
    "\n",
    "    print(\"res_mat =\", res_mat)\n",
    "    print(\"The basic variable leaving is index:\", res[0] + 1)\n",
    "    # determining var leaving non-basic set N\n",
    "\n",
    "    a_entering = [row[res[0]] for row in A]\n",
    "\n",
    "    # B(-1)*b/B(-1)*a \n",
    "    res_mat2 = np.divide(np.linalg.inv(B).dot(b), (np.linalg.inv(B).dot(a_entering)))\n",
    "\n",
    "    min_index2 = min(res_mat2)\n",
    "    res2 = [i for i, j in enumerate(res_mat2) if j == min_index2]\n",
    "    print(c_b[res[0]])\n",
    "\n",
    "    enter_col = np.copy(N[:,res[0]])\n",
    "    exit_col = np.copy(B[:,res2[0]])\n",
    "    enter_cB = np.copy(c_n[res[0]])\n",
    "    enter_cN = np.copy(c_b[res2[0]])\n",
    "    print(res_mat2)\n",
    "    print(\"The non-basic variable entering is index:\", res2[0] + 1)\n",
    "    #if cost vectors are fine after iteration 1, compute z = cB*xB\n",
    "    if all(i >= 0 for i in res_mat) == True:\n",
    "        x_b = np.linalg.inv(B).dot(b)\n",
    "        print(\"The optimal solution is:\", c_b.dot(x_b))"
   ]
  },
  {
   "cell_type": "code",
   "execution_count": 175,
   "metadata": {},
   "outputs": [],
   "source": [
    "B[:,res2[0]] = enter_col\n",
    "N[:,res[0]] = exit_col\n",
    "c_b[res2[0]] = enter_cB\n",
    "c_n[res[0]] = enter_cN"
   ]
  },
  {
   "cell_type": "code",
   "execution_count": 176,
   "metadata": {},
   "outputs": [
    {
     "name": "stdout",
     "output_type": "stream",
     "text": [
      "res_mat = [-0.75 -9.5 ]\n",
      "[12. -0.]\n",
      "The optimal solution is: -9.0\n"
     ]
    }
   ],
   "source": [
    "# Following iterations\n",
    "\n",
    "# if cB*B-1*N - cN values are non-positive, solution is optimal:\n",
    "if minimize == True:\n",
    "    while all(i <= 0 for i in res_mat) == False:        \n",
    "        # determining var entering basic set B\n",
    "        res_mat = c_b.dot(np.linalg.inv(B)).dot(N) - c_n\n",
    "        print(\"res_mat =\", res_mat)\n",
    "\n",
    "        max_index = max(res_mat)\n",
    "        res = [i for i, j in enumerate(res_mat) if j == max_index]\n",
    "\n",
    "        # determining var leaving non-basic set N\n",
    "\n",
    "        a_entering = [row[res[0]] for row in A]\n",
    "\n",
    "        # B(-1)*b/B(-1)*a \n",
    "        res_mat2 = np.divide(np.linalg.inv(B).dot(b), (np.linalg.inv(B).dot(a_entering)))\n",
    "        print(res_mat2)\n",
    "\n",
    "        max_index2 = max(res_mat2)\n",
    "        res2 = [i for i, j in enumerate(res_mat2) if j == max_index2]\n",
    "\n",
    "        enter_col = np.copy(N[:,res[0]])\n",
    "        exit_col = np.copy(B[:,res2[0]])\n",
    "        enter_cB = np.copy(c_n[res[0]])\n",
    "        enter_cN = np.copy(c_b[res2[0]])\n",
    "\n",
    "        if (all(i<= 0 for i in res_mat) == True):\n",
    "            continue\n",
    "        else:\n",
    "            B[:,res2[0]] = enter_col\n",
    "            N[:,res[0]] = exit_col\n",
    "            c_b[res2[0]] = enter_cB\n",
    "            c_n[res[0]] = enter_cN\n",
    "    if all(i <= 0 for i in res_mat) == True:\n",
    "        x_b = np.linalg.inv(B).dot(b)\n",
    "        print(\"The optimal solution is:\", c_b.dot(x_b))\n",
    "# if cB*B-1*N - cN values are non-negative, solution is optimal:\n",
    "elif minimize == False: # if the question calls for maximization\n",
    "    while all(i>= 0 for i in res_mat) == False:\n",
    "        B[:,res2[0]] = enter_col\n",
    "        N[:,res[0]] = exit_col\n",
    "        c_b[res2[0]] = enter_cB\n",
    "        c_n[res[0]] = enter_cN\n",
    "\n",
    "        res_mat = c_b.dot(np.linalg.inv(B)).dot(N) - c_n\n",
    "\n",
    "        min_index = min(res_mat)\n",
    "        res = [i for i, j in enumerate(res_mat) if j == min_index]\n",
    "\n",
    "        print(\"res_mat =\", res_mat)\n",
    "\n",
    "        # determining var leaving non-basic set N\n",
    "\n",
    "        a_entering = [row[res[0]] for row in A]\n",
    "\n",
    "        # B(-1)*b/B(-1)*a \n",
    "        res_mat2 = np.divide(np.linalg.inv(B).dot(b), (np.linalg.inv(B).dot(a_entering)))\n",
    "\n",
    "        min_index2 = min(res_mat2)\n",
    "        res2 = [i for i, j in enumerate(res_mat2) if j == min_index2]\n",
    "\n",
    "        enter_col = np.copy(N[:,res[0]])\n",
    "        exit_col = np.copy(B[:,res2[0]])\n",
    "        enter_cB = np.copy(c_n[res[0]])\n",
    "        enter_cN = np.copy(c_b[res2[0]])\n",
    "\n",
    "        if (all(i>= 0 for i in res_mat) == True):\n",
    "            continue\n",
    "        else:\n",
    "            B[:,res2[0]] = enter_col\n",
    "            N[:,res[0]] = exit_col\n",
    "            c_b[res2[0]] = enter_cB\n",
    "            c_n[res[0]] = enter_cN\n",
    "\n",
    "        print(\"B matrix is\", B)\n",
    "    if all(i >= 0 for i in res_mat) == True:\n",
    "        x_b = np.linalg.inv(B).dot(b)\n",
    "        print(\"The optimal solution is:\", c_b.dot(x_b))\n",
    "\n"
   ]
  }
 ],
 "metadata": {
  "kernelspec": {
   "display_name": "base",
   "language": "python",
   "name": "python3"
  },
  "language_info": {
   "codemirror_mode": {
    "name": "ipython",
    "version": 3
   },
   "file_extension": ".py",
   "mimetype": "text/x-python",
   "name": "python",
   "nbconvert_exporter": "python",
   "pygments_lexer": "ipython3",
   "version": "3.8.16"
  }
 },
 "nbformat": 4,
 "nbformat_minor": 2
}

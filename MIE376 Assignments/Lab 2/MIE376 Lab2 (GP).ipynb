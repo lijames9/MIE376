{
 "cells": [
  {
   "cell_type": "code",
   "execution_count": 4,
   "id": "905879ab",
   "metadata": {},
   "outputs": [],
   "source": [
    "import gurobipy as gp"
   ]
  },
  {
   "cell_type": "code",
   "execution_count": 5,
   "id": "29b07ac6",
   "metadata": {},
   "outputs": [
    {
     "data": {
      "text/plain": [
       "<gurobi.Constr *Awaiting Model Update*>"
      ]
     },
     "execution_count": 5,
     "metadata": {},
     "output_type": "execute_result"
    }
   ],
   "source": [
    "model = gp.Model()\n",
    "\n",
    "# objective function\n",
    "x1= model.addVar(vtype=gp.GRB.CONTINUOUS, obj=3, lb=0)\n",
    "x2 = model.addVar(vtype=gp.GRB.CONTINUOUS, obj=2, lb=0)\n",
    "x3= model.addVar(vtype=gp.GRB.CONTINUOUS, obj=-1, lb=0)\n",
    "x4 = model.addVar(vtype=gp.GRB.CONTINUOUS, obj=-2, lb=0)\n",
    "x5 = model.addVar(vtype=gp.GRB.CONTINUOUS, obj=1, lb=0)\n",
    "x6 = model.addVar(vtype=gp.GRB.CONTINUOUS, obj=2, lb=0)\n",
    "x7 = model.addVar(vtype=gp.GRB.CONTINUOUS, obj=-1, lb=0)\n",
    "x8 = model.addVar(vtype=gp.GRB.CONTINUOUS, obj=3, lb=0)\n",
    "x9 = model.addVar(vtype=gp.GRB.CONTINUOUS, obj=4, lb=0)\n",
    "x10 = model.addVar(vtype=gp.GRB.CONTINUOUS, obj=-3, lb=0)\n",
    "\n",
    "# constraints\n",
    "\n",
    "model.addConstr(2*x1 + x2 + 3*x3 + x4 + 2*x5 + x6 + 4*x7 + x8 - 2*x9 + 3*x10 <= 80)\n",
    "model.addConstr(x1 - 4*x2 + x3 + 2*x4 + 3*x5 + x6 - x7 + 4*x8 + x9 + 2*x10 <= 50)\n",
    "model.addConstr(3*x1 + 2*x2 - 2*x3 - x4 + x5 + 3*x6 + 2*x7 + x8 + x9 + x10 <= 40)\n",
    "model.addConstr(2*x1 + 3*x2 + x3 + x4 + x5 + x6 + x7 + x8 + 3*x9 + 2*x10 <= 90)\n",
    "model.addConstr(x1 + x2 + x3 + x4 + x5 + x6 + x7 + x8 + x9 + x10 <= 50)"
   ]
  },
  {
   "cell_type": "code",
   "execution_count": 7,
   "id": "07f61aa1",
   "metadata": {},
   "outputs": [
    {
     "name": "stdout",
     "output_type": "stream",
     "text": [
      "Gurobi Optimizer version 9.5.2 build v9.5.2rc0 (win64)\n",
      "Thread count: 8 physical cores, 16 logical processors, using up to 16 threads\n",
      "Optimize a model with 5 rows, 10 columns and 50 nonzeros\n",
      "Coefficient statistics:\n",
      "  Matrix range     [1e+00, 4e+00]\n",
      "  Objective range  [1e+00, 4e+00]\n",
      "  Bounds range     [0e+00, 0e+00]\n",
      "  RHS range        [4e+01, 9e+01]\n",
      "\n",
      "Solved in 0 iterations and 0.00 seconds (0.00 work units)\n",
      "Optimal objective  1.300000000e+02\n",
      "Objective value: 130.0\n",
      "x1=0.0, x2=0.0,x3=0.0, x4=0.0, x5=0.0, x6=2.5, x7=0.0, x8=5.0, x9=27.5, x10=0.0, \n",
      "Maximize\n",
      "<gurobi.LinExpr: 3.0 C0 + 2.0 C1 + -1.0 C2 + -2.0 C3 + C4 + 2.0 C5 + -1.0 C6 + 3.0 C7\n",
      "+ 4.0 C8 + -3.0 C9>\n",
      "Subject To\n",
      "R0: <gurobi.LinExpr: 2.0 C0 + C1 + 3.0 C2 + C3 + 2.0 C4 + C5 + 4.0 C6 + C7 + -2.0 C8 +\n",
      " 3.0 C9> <= 80\n",
      "R1: <gurobi.LinExpr: C0 + -4.0 C1 + C2 + 2.0 C3 + 3.0 C4 + C5 + -1.0 C6 + 4.0 C7 + C8 +\n",
      " 2.0 C9> <= 50\n",
      "R2: <gurobi.LinExpr: 3.0 C0 + 2.0 C1 + -2.0 C2 + -1.0 C3 + C4 + 3.0 C5 + 2.0 C6 + C7 +\n",
      " C8 + C9> <= 40\n",
      "R3: <gurobi.LinExpr: 2.0 C0 + 3.0 C1 + C2 + C3 + C4 + C5 + C6 + C7 + 3.0 C8 + 2.0 C9>\n",
      " <= 90\n",
      "  R4: <gurobi.LinExpr: C0 + C1 + C2 + C3 + C4 + C5 + C6 + C7 + C8 + C9> <= 50\n"
     ]
    }
   ],
   "source": [
    "# Solve (minimization by default).\n",
    "model.modelSense = gp.GRB.MAXIMIZE\n",
    "model.optimize()\n",
    "\n",
    "print(\"Objective value: {}\".format(model.objVal))\n",
    "print(\"x1={}, x2={}, x3={}, x4={}, x5={}, x6={}, x7={}, x8={}, x9={}, x10={}, \".format(x1.x, x2.x, x3.x, x4.x, x5.x, x6.x, x7.x,x8.x,x9.x,x10.x)) \n",
    "model.display()"
   ]
  },
  {
   "cell_type": "code",
   "execution_count": null,
   "id": "dc752662",
   "metadata": {},
   "outputs": [],
   "source": []
  }
 ],
 "metadata": {
  "kernelspec": {
   "display_name": "Python 3 (ipykernel)",
   "language": "python",
   "name": "python3"
  },
  "language_info": {
   "codemirror_mode": {
    "name": "ipython",
    "version": 3
   },
   "file_extension": ".py",
   "mimetype": "text/x-python",
   "name": "python",
   "nbconvert_exporter": "python",
   "pygments_lexer": "ipython3",
   "version": "3.9.12"
  }
 },
 "nbformat": 4,
 "nbformat_minor": 5
}

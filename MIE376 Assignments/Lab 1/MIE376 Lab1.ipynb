{
 "cells": [
  {
   "cell_type": "code",
   "execution_count": 1,
   "id": "0e585342",
   "metadata": {},
   "outputs": [
    {
     "ename": "ModuleNotFoundError",
     "evalue": "No module named 'gurobipy'",
     "output_type": "error",
     "traceback": [
      "\u001b[1;31m---------------------------------------------------------------------------\u001b[0m",
      "\u001b[1;31mModuleNotFoundError\u001b[0m                       Traceback (most recent call last)",
      "Cell \u001b[1;32mIn[1], line 1\u001b[0m\n\u001b[1;32m----> 1\u001b[0m \u001b[38;5;28;01mimport\u001b[39;00m \u001b[38;5;21;01mgurobipy\u001b[39;00m \u001b[38;5;28;01mas\u001b[39;00m \u001b[38;5;21;01mgp\u001b[39;00m\n",
      "\u001b[1;31mModuleNotFoundError\u001b[0m: No module named 'gurobipy'"
     ]
    }
   ],
   "source": [
    "import gurobipy as gp"
   ]
  },
  {
   "cell_type": "code",
   "execution_count": 26,
   "id": "73c46085",
   "metadata": {},
   "outputs": [
    {
     "data": {
      "text/plain": [
       "<gurobi.Constr *Awaiting Model Update*>"
      ]
     },
     "execution_count": 26,
     "metadata": {},
     "output_type": "execute_result"
    }
   ],
   "source": [
    "# defining objective function & variables\n",
    "\n",
    "model1 = gp.Model()\n",
    "\n",
    "x1_lo= model1.addVar(vtype=gp.GRB.CONTINUOUS, obj=-19,lb=0, name=\"CC_lolead\")\n",
    "x2_lo = model1.addVar(vtype=gp.GRB.CONTINUOUS, obj=-19, lb=0, name=\"ISO_lolead\")\n",
    "x3_lo= model1.addVar(vtype=gp.GRB.CONTINUOUS, obj=-19, lb=0, name=\"STR_lolead\")\n",
    "\n",
    "x1_pre = model1.addVar(vtype=gp.GRB.CONTINUOUS, obj=-19, lb=0, name=\"CC_premium\")\n",
    "x2_pre = model1.addVar(vtype=gp.GRB.CONTINUOUS, obj=-19, lb=0, name=\"ISO_premium\")\n",
    "x3_pre = model1.addVar(vtype=gp.GRB.CONTINUOUS, obj=-19, lb=0, name=\"STR_premium\")\n",
    "\n",
    "const1 = model1.addVar(vtype=gp.GRB.CONTINUOUS, obj=19, lb=2700, ub=2700, name=\"CC_const\")\n",
    "const2 = model1.addVar(vtype=gp.GRB.CONTINUOUS, obj=19, lb=1350, ub=1350, name=\"ISO_const\")\n",
    "const3 =  model.addVar(vtype=gp.GRB.CONTINUOUS, obj=19, lb=4100, ub=4100, name=\"STR_const\")\n",
    "\n",
    "y1 = model1.addVar(vtype=gp.GRB.CONTINUOUS, obj=19.8, lb=0, name=\"total_lolead\")\n",
    "y2 = model1.addVar(vtype=gp.GRB.CONTINUOUS, obj=22, lb=0, name=\"total_premium\")\n",
    "\n",
    "\n",
    "# defining constraints\n",
    "model1.addConstr(x1_lo + x2_lo + x3_lo == y1)\n",
    "model1.addConstr(x1_pre + x2_pre + x3_pre == y2)\n",
    "model1.addConstr(8*x1_lo + 20*x2_lo + 4*x3_lo <= 7*y1)\n",
    "model1.addConstr(83*x1_lo + 109*x2_lo + 74*x3_lo >= 80*y1)\n",
    "model1.addConstr(8*x1_pre + 20*x2_pre + 4*x3_pre <= 6*y2)\n",
    "model1.addConstr(83*x1_pre + 109*x2_pre + 74*x3_pre >= 100*y2)\n",
    "\n",
    "model1.addConstr(x1_lo + x1_pre <= 2700)\n",
    "model1.addConstr(x2_lo + x2_pre <= 1350)\n",
    "model1.addConstr(x3_lo + x3_pre <= 4100)"
   ]
  },
  {
   "cell_type": "code",
   "execution_count": 27,
   "id": "3019ab94",
   "metadata": {},
   "outputs": [
    {
     "name": "stdout",
     "output_type": "stream",
     "text": [
      "Gurobi Optimizer version 9.5.2 build v9.5.2rc0 (win64)\n",
      "Thread count: 8 physical cores, 16 logical processors, using up to 16 threads\n",
      "Optimize a model with 9 rows, 11 columns and 30 nonzeros\n",
      "Model fingerprint: 0x49606ad6\n",
      "Coefficient statistics:\n",
      "  Matrix range     [1e+00, 1e+02]\n",
      "  Objective range  [2e+01, 2e+01]\n",
      "  Bounds range     [1e+03, 4e+03]\n",
      "  RHS range        [1e+03, 4e+03]\n",
      "Presolve removed 2 rows and 5 columns\n",
      "Presolve time: 0.00s\n",
      "Presolved: 7 rows, 6 columns, 18 nonzeros\n",
      "\n",
      "Iteration    Objective       Primal Inf.    Dual Inf.      Time\n",
      "       0    1.7945000e+05   7.256674e+03   0.000000e+00      0s\n",
      "       3    1.6088077e+05   0.000000e+00   0.000000e+00      0s\n",
      "\n",
      "Solved in 3 iterations and 0.01 seconds (0.00 work units)\n",
      "Optimal objective  1.608807692e+05\n"
     ]
    }
   ],
   "source": [
    "# Solve (minimization by default).\n",
    "model1.modelSense = gp.GRB.MAXIMIZE\n",
    "model1.optimize()"
   ]
  },
  {
   "cell_type": "code",
   "execution_count": 28,
   "id": "aa47cddd",
   "metadata": {},
   "outputs": [
    {
     "name": "stdout",
     "output_type": "stream",
     "text": [
      "Objective value: 160880.76923076922\n",
      "y1=7538.461538461538, y2=0.0\n",
      "Maximize\n",
      "<gurobi.LinExpr: -19.0 CC_lolead + -19.0 ISO_lolead + -19.0 STR_lolead +\n",
      "-19.0 CC_premium + -19.0 ISO_premium + -19.0 STR_premium + 19.0 CC_const\n",
      "+ 19.0 ISO_const + 19.0 STR_const + 19.8 total_lolead + 22.0 total_premium>\n",
      "Subject To\n",
      "  R0: <gurobi.LinExpr: CC_lolead + ISO_lolead + STR_lolead + -1.0 total_lolead> = 0\n",
      "  R1: <gurobi.LinExpr: CC_premium + ISO_premium + STR_premium + -1.0 total_premium> = 0\n",
      "R2: <gurobi.LinExpr: 8.0 CC_lolead + 20.0 ISO_lolead + 4.0 STR_lolead + -7.0\n",
      " total_lolead> <= 0\n",
      "R3: <gurobi.LinExpr: 83.0 CC_lolead + 109.0 ISO_lolead + 74.0 STR_lolead + -80.0\n",
      " total_lolead> >= 0\n",
      "R4: <gurobi.LinExpr: 8.0 CC_premium + 20.0 ISO_premium + 4.0 STR_premium + -6.0\n",
      " total_premium> <= 0\n",
      "R5: <gurobi.LinExpr: 83.0 CC_premium + 109.0 ISO_premium + 74.0 STR_premium + -100.0\n",
      " total_premium> >= 0\n",
      "  R6: <gurobi.LinExpr: CC_lolead + CC_premium> <= 2700\n",
      "  R7: <gurobi.LinExpr: ISO_lolead + ISO_premium> <= 1350\n",
      "  R8: <gurobi.LinExpr: STR_lolead + STR_premium> <= 4100\n",
      "Bounds\n",
      "  CC_const = 2700\n",
      "  ISO_const = 1350\n",
      "  STR_const = 4100\n"
     ]
    }
   ],
   "source": [
    "print(\"Objective value: {}\".format(model1.objVal))\n",
    "print(\"y1={}, y2={}\".format(y1.x, y2.x)) \n",
    "model1.display()"
   ]
  },
  {
   "cell_type": "code",
   "execution_count": 32,
   "id": "af99667e",
   "metadata": {},
   "outputs": [
    {
     "data": {
      "text/plain": [
       "<gurobi.Constr *Awaiting Model Update*>"
      ]
     },
     "execution_count": 32,
     "metadata": {},
     "output_type": "execute_result"
    }
   ],
   "source": [
    "model2 = gp.Model()\n",
    "\n",
    "# objective function\n",
    "\n",
    "xA= model2.addVar(vtype=gp.GRB.CONTINUOUS, obj=220,lb=0, name=\"Tons of A Cargo\")\n",
    "xB = model2.addVar(vtype=gp.GRB.CONTINUOUS, obj=280,lb=0, name=\"Tons of B Cargo\")\n",
    "xC = model2.addVar(vtype=gp.GRB.CONTINUOUS, obj=250,lb=0, name=\"Tons of C Cargo\")\n",
    "xD = model2.addVar(vtype=gp.GRB.CONTINUOUS, obj=200,lb=0, name=\"Tons of D Cargo\")\n",
    "\n",
    "xAB= model2.addVar(vtype=gp.GRB.CONTINUOUS, obj=0,lb=0, name=\"A_back\")\n",
    "xBB= model2.addVar(vtype=gp.GRB.CONTINUOUS, obj=0,lb=0, name=\"B_back\")\n",
    "xCB= model2.addVar(vtype=gp.GRB.CONTINUOUS, obj=0,lb=0, name=\"C_back\")\n",
    "xDB= model2.addVar(vtype=gp.GRB.CONTINUOUS, obj=0,lb=0, name=\"D_back\")\n",
    "\n",
    "xAF= model2.addVar(vtype=gp.GRB.CONTINUOUS, obj=0,lb=0, name=\"A_for\")\n",
    "xBF= model2.addVar(vtype=gp.GRB.CONTINUOUS, obj=0,lb=0, name=\"B_for\")\n",
    "xCF= model2.addVar(vtype=gp.GRB.CONTINUOUS, obj=0,lb=0, name=\"C_for\")\n",
    "xDF= model2.addVar(vtype=gp.GRB.CONTINUOUS, obj=0,lb=0, name=\"D_for\")\n",
    "\n",
    "xAC= model2.addVar(vtype=gp.GRB.CONTINUOUS, obj=0,lb=0, name=\"A_cen\")\n",
    "xBC= model2.addVar(vtype=gp.GRB.CONTINUOUS, obj=0,lb=0, name=\"B_cen\")\n",
    "xCC= model2.addVar(vtype=gp.GRB.CONTINUOUS, obj=0,lb=0, name=\"C_cen\")\n",
    "xDC= model2.addVar(vtype=gp.GRB.CONTINUOUS, obj=0,lb=0, name=\"D_cen\")\n",
    "\n",
    "cargo = model2.addVar(vtype=gp.GRB.CONTINUOUS, obj=0,lb=0, name=\"Cargo_tot\")\n",
    "\n",
    "# constraints\n",
    "\n",
    "model2.addConstr(xAC + xAF + xAB == xA)\n",
    "model2.addConstr(xBC + xBF + xBB == xB)\n",
    "model2.addConstr(xCC + xCF + xCB == xC)\n",
    "model2.addConstr(xDC + xDF + xDB == xD)\n",
    "\n",
    "model2.addConstr(xAB + xBB + xCB + xDB <= 100)\n",
    "model2.addConstr(xAF + xBF + xCF + xDF <= 120)\n",
    "model2.addConstr(xAC + xBC + xCC + xDC <= 180)\n",
    "\n",
    "model2.addConstr((500/20)*xAB + (700/16)*xBB + (600/25)*xCB + (400/13)*xDB <= 5000)\n",
    "model2.addConstr((500/20)*xAF + (700/16)*xBF + (600/25)*xCF + (400/13)*xDF <= 7000)\n",
    "model2.addConstr((500/20)*xAC + (700/16)*xBC + (600/25)*xCC + (400/13)*xDC <= 9000)\n",
    "\n",
    "model2.addConstr(xA + xB + xC + xD == cargo)\n",
    "model2.addConstr(xAB + xBB + xCB + xDB == (1/4)*cargo)\n",
    "model2.addConstr(xAF + xBF + xCF + xDF == (12/40)*cargo)\n",
    "model2.addConstr(xAC + xBC + xCC + xDC == (18/40)*cargo)"
   ]
  },
  {
   "cell_type": "code",
   "execution_count": 33,
   "id": "ea7a6940",
   "metadata": {},
   "outputs": [
    {
     "name": "stdout",
     "output_type": "stream",
     "text": [
      "Gurobi Optimizer version 9.5.2 build v9.5.2rc0 (win64)\n",
      "Thread count: 8 physical cores, 16 logical processors, using up to 16 threads\n",
      "Optimize a model with 14 rows, 17 columns and 60 nonzeros\n",
      "Model fingerprint: 0x95b0d9b2\n",
      "Coefficient statistics:\n",
      "  Matrix range     [3e-01, 4e+01]\n",
      "  Objective range  [2e+02, 3e+02]\n",
      "  Bounds range     [0e+00, 0e+00]\n",
      "  RHS range        [1e+02, 9e+03]\n",
      "Presolve removed 6 rows and 5 columns\n",
      "Presolve time: 0.00s\n",
      "Presolved: 8 rows, 12 columns, 44 nonzeros\n",
      "\n",
      "Iteration    Objective       Primal Inf.    Dual Inf.      Time\n",
      "       0    1.1200000e+05   0.000000e+00   0.000000e+00      0s\n",
      "       0    1.1200000e+05   0.000000e+00   0.000000e+00      0s\n",
      "\n",
      "Solved in 0 iterations and 0.01 seconds (0.00 work units)\n",
      "Optimal objective  1.120000000e+05\n"
     ]
    }
   ],
   "source": [
    "# Solve (minimization by default).\n",
    "model2.modelSense = gp.GRB.MAXIMIZE\n",
    "model2.optimize()"
   ]
  },
  {
   "cell_type": "code",
   "execution_count": 35,
   "id": "059b15c8",
   "metadata": {},
   "outputs": [
    {
     "name": "stdout",
     "output_type": "stream",
     "text": [
      "Objective value: 112000.0\n",
      "xA=0.0, xB=400.0,xC=0.0,xD=0.0, xB_back=100.0, xB_for=120.0, xB_cen=180.0\n",
      "Maximize\n",
      "<gurobi.LinExpr: 220.0 Tons of A Cargo + 280.0 Tons of B Cargo + 250.0 Tons of C Cargo\n",
      "+ 200.0 Tons of D Cargo>\n",
      "Subject To\n",
      "  R0: <gurobi.LinExpr: -1.0 Tons of A Cargo + A_back + A_for + A_cen> = 0\n",
      "  R1: <gurobi.LinExpr: -1.0 Tons of B Cargo + B_back + B_for + B_cen> = 0\n",
      "  R2: <gurobi.LinExpr: -1.0 Tons of C Cargo + C_back + C_for + C_cen> = 0\n",
      "  R3: <gurobi.LinExpr: -1.0 Tons of D Cargo + D_back + D_for + D_cen> = 0\n",
      "  R4: <gurobi.LinExpr: A_back + B_back + C_back + D_back> <= 100\n",
      "  R5: <gurobi.LinExpr: A_for + B_for + C_for + D_for> <= 120\n",
      "  R6: <gurobi.LinExpr: A_cen + B_cen + C_cen + D_cen> <= 180\n",
      "R7: <gurobi.LinExpr: 25.0 A_back + 43.75 B_back + 24.0 C_back + 30.76923076923077\n",
      " D_back> <= 5000\n",
      "R8: <gurobi.LinExpr: 25.0 A_for + 43.75 B_for + 24.0 C_for + 30.76923076923077 D_for>\n",
      " <= 7000\n",
      "R9: <gurobi.LinExpr: 25.0 A_cen + 43.75 B_cen + 24.0 C_cen + 30.76923076923077 D_cen>\n",
      " <= 9000\n",
      "R10: <gurobi.LinExpr: Tons of A Cargo + Tons of B Cargo + Tons of C Cargo + Tons of D\n",
      " Cargo + -1.0 Cargo_tot> = 0\n",
      "  R11: <gurobi.LinExpr: A_back + B_back + C_back + D_back + -0.25 Cargo_tot> = 0\n",
      "  R12: <gurobi.LinExpr: A_for + B_for + C_for + D_for + -0.3 Cargo_tot> = 0\n",
      "  R13: <gurobi.LinExpr: A_cen + B_cen + C_cen + D_cen + -0.45 Cargo_tot> = 0\n"
     ]
    }
   ],
   "source": [
    "print(\"Objective value: {}\".format(model2.objVal))\n",
    "print(\"xA={}, xB={},xC={},xD={}, xB_back={}, xB_for={}, xB_cen={}\".format(xA.x, xB.x, xC.x, xD.x, xBB.x, xBF.x, xBC.x)) \n",
    "model2.display()\n"
   ]
  }
 ],
 "metadata": {
  "kernelspec": {
   "display_name": "Python 3 (ipykernel)",
   "language": "python",
   "name": "python3"
  },
  "language_info": {
   "codemirror_mode": {
    "name": "ipython",
    "version": 3
   },
   "file_extension": ".py",
   "mimetype": "text/x-python",
   "name": "python",
   "nbconvert_exporter": "python",
   "pygments_lexer": "ipython3",
   "version": "3.8.16"
  }
 },
 "nbformat": 4,
 "nbformat_minor": 5
}
